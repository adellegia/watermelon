{
 "cells": [
  {
   "cell_type": "markdown",
   "metadata": {},
   "source": [
    "## Importing the data"
   ]
  },
  {
   "cell_type": "code",
   "execution_count": 25,
   "metadata": {},
   "outputs": [],
   "source": [
    "import pandas as pd\n",
    "import numpy as np"
   ]
  },
  {
   "cell_type": "code",
   "execution_count": 26,
   "metadata": {},
   "outputs": [],
   "source": [
    "# df = pd.read_json(r\"../data/df_final_para.json\") # paragraphs\n",
    "df = pd.read_json(r\"../data/df_final_document.json\") # document\n",
    "df = df[df['submit']==1] # only submitted"
   ]
  },
  {
   "cell_type": "code",
   "execution_count": 27,
   "metadata": {},
   "outputs": [
    {
     "data": {
      "text/html": [
       "<div>\n",
       "<style scoped>\n",
       "    .dataframe tbody tr th:only-of-type {\n",
       "        vertical-align: middle;\n",
       "    }\n",
       "\n",
       "    .dataframe tbody tr th {\n",
       "        vertical-align: top;\n",
       "    }\n",
       "\n",
       "    .dataframe thead th {\n",
       "        text-align: right;\n",
       "    }\n",
       "</style>\n",
       "<table border=\"1\" class=\"dataframe\">\n",
       "  <thead>\n",
       "    <tr style=\"text-align: right;\">\n",
       "      <th></th>\n",
       "      <th>Reference</th>\n",
       "      <th>Feedback date</th>\n",
       "      <th>User type</th>\n",
       "      <th>Scope</th>\n",
       "      <th>Organisation name</th>\n",
       "      <th>Transparency register number</th>\n",
       "      <th>Organisation size</th>\n",
       "      <th>label_132</th>\n",
       "      <th>label_134</th>\n",
       "      <th>submit</th>\n",
       "      <th>file_name</th>\n",
       "      <th>language</th>\n",
       "      <th>text</th>\n",
       "      <th>text_clean</th>\n",
       "    </tr>\n",
       "  </thead>\n",
       "  <tbody>\n",
       "    <tr>\n",
       "      <th>1</th>\n",
       "      <td>F550827</td>\n",
       "      <td>8.09.2020 23:54</td>\n",
       "      <td>NGO (Non-governmental organisation)</td>\n",
       "      <td>None</td>\n",
       "      <td>Lie Detectors</td>\n",
       "      <td>094738529674-10</td>\n",
       "      <td>Small (&lt; 50 employees)</td>\n",
       "      <td>Yes</td>\n",
       "      <td>No</td>\n",
       "      <td>1</td>\n",
       "      <td>F550827-Lie_Detectors_-_Digital_Services_Act_-...</td>\n",
       "      <td>en</td>\n",
       "      <td>\\n \\n \\n8 Sept, 2020 \\n \\nDigital Services Ac...</td>\n",
       "      <td>sept digit servic act new competit tool lie de...</td>\n",
       "    </tr>\n",
       "    <tr>\n",
       "      <th>3</th>\n",
       "      <td>F550825</td>\n",
       "      <td>8.09.2020 23:45</td>\n",
       "      <td>Academic/Research Institution</td>\n",
       "      <td>None</td>\n",
       "      <td>Master student candidate Master in Competition...</td>\n",
       "      <td>None</td>\n",
       "      <td>Large (250 or more)</td>\n",
       "      <td>Yes</td>\n",
       "      <td>No</td>\n",
       "      <td>1</td>\n",
       "      <td>F550825-PREPARATIVE_DOCUMENT_FOR_THE_EUROEPAN_...</td>\n",
       "      <td>en</td>\n",
       "      <td>Ref. Ares(2020)4723305 - 10/09/2020\\n \\n \\n \\n...</td>\n",
       "      <td>ref are 10/09/2020 the lego monopoli how platf...</td>\n",
       "    </tr>\n",
       "    <tr>\n",
       "      <th>7</th>\n",
       "      <td>F550814</td>\n",
       "      <td>8.09.2020 23:02</td>\n",
       "      <td>Company/Business organisation</td>\n",
       "      <td>None</td>\n",
       "      <td>SKY</td>\n",
       "      <td>62536168216-12</td>\n",
       "      <td>Large (250 or more)</td>\n",
       "      <td>No</td>\n",
       "      <td>No</td>\n",
       "      <td>1</td>\n",
       "      <td>F550814-NCT_Response_-_Sky_September_2020.</td>\n",
       "      <td>en</td>\n",
       "      <td>Ref. Ares(2020)4723255 - 09/09/2020\\n \\n \\n \\n...</td>\n",
       "      <td>ref are 09/09/2020 the propos creat ‘ new comp...</td>\n",
       "    </tr>\n",
       "    <tr>\n",
       "      <th>9</th>\n",
       "      <td>F550811</td>\n",
       "      <td>8.09.2020 22:58</td>\n",
       "      <td>Consumer Organisation</td>\n",
       "      <td>None</td>\n",
       "      <td>Public Knowledge &amp; The Consumer Federation of ...</td>\n",
       "      <td>None</td>\n",
       "      <td>Small (&lt; 50 employees)</td>\n",
       "      <td>Yes</td>\n",
       "      <td>No</td>\n",
       "      <td>1</td>\n",
       "      <td>F550811-CFA_PK_Additional_Background_.</td>\n",
       "      <td>en</td>\n",
       "      <td>Ref. Ares(2020)4723185 - 09/09/2020\\n \\n \\n \\n...</td>\n",
       "      <td>ref are 09/09/2020 onc recogn economi scale sc...</td>\n",
       "    </tr>\n",
       "    <tr>\n",
       "      <th>11</th>\n",
       "      <td>F550809</td>\n",
       "      <td>8.09.2020 22:39</td>\n",
       "      <td>Other</td>\n",
       "      <td>None</td>\n",
       "      <td>IMPALA - Independent Music Companies Association</td>\n",
       "      <td>12383069253-19</td>\n",
       "      <td>Micro (&lt; 10 employees)</td>\n",
       "      <td>Yes</td>\n",
       "      <td>No</td>\n",
       "      <td>1</td>\n",
       "      <td>F550809-IMPALA_Summary_-_consultation_on_a_new...</td>\n",
       "      <td>en</td>\n",
       "      <td>Ref. Ares(2020)4723184 - 09/09/2020\\n \\nCONFID...</td>\n",
       "      <td>ref are 09/09/2020 confidenti annex to impala ...</td>\n",
       "    </tr>\n",
       "  </tbody>\n",
       "</table>\n",
       "</div>"
      ],
      "text/plain": [
       "   Reference    Feedback date                            User type Scope  \\\n",
       "1    F550827  8.09.2020 23:54  NGO (Non-governmental organisation)  None   \n",
       "3    F550825  8.09.2020 23:45        Academic/Research Institution  None   \n",
       "7    F550814  8.09.2020 23:02        Company/Business organisation  None   \n",
       "9    F550811  8.09.2020 22:58                Consumer Organisation  None   \n",
       "11   F550809  8.09.2020 22:39                                Other  None   \n",
       "\n",
       "                                    Organisation name  \\\n",
       "1                                       Lie Detectors   \n",
       "3   Master student candidate Master in Competition...   \n",
       "7                                                 SKY   \n",
       "9   Public Knowledge & The Consumer Federation of ...   \n",
       "11   IMPALA - Independent Music Companies Association   \n",
       "\n",
       "   Transparency register number       Organisation size label_132 label_134  \\\n",
       "1               094738529674-10  Small (< 50 employees)       Yes        No   \n",
       "3                          None     Large (250 or more)       Yes        No   \n",
       "7                62536168216-12     Large (250 or more)        No        No   \n",
       "9                          None  Small (< 50 employees)       Yes        No   \n",
       "11               12383069253-19  Micro (< 10 employees)       Yes        No   \n",
       "\n",
       "    submit                                          file_name language  \\\n",
       "1        1  F550827-Lie_Detectors_-_Digital_Services_Act_-...       en   \n",
       "3        1  F550825-PREPARATIVE_DOCUMENT_FOR_THE_EUROEPAN_...       en   \n",
       "7        1         F550814-NCT_Response_-_Sky_September_2020.       en   \n",
       "9        1             F550811-CFA_PK_Additional_Background_.       en   \n",
       "11       1  F550809-IMPALA_Summary_-_consultation_on_a_new...       en   \n",
       "\n",
       "                                                 text  \\\n",
       "1    \\n \\n \\n8 Sept, 2020 \\n \\nDigital Services Ac...   \n",
       "3   Ref. Ares(2020)4723305 - 10/09/2020\\n \\n \\n \\n...   \n",
       "7   Ref. Ares(2020)4723255 - 09/09/2020\\n \\n \\n \\n...   \n",
       "9   Ref. Ares(2020)4723185 - 09/09/2020\\n \\n \\n \\n...   \n",
       "11  Ref. Ares(2020)4723184 - 09/09/2020\\n \\nCONFID...   \n",
       "\n",
       "                                           text_clean  \n",
       "1   sept digit servic act new competit tool lie de...  \n",
       "3   ref are 10/09/2020 the lego monopoli how platf...  \n",
       "7   ref are 09/09/2020 the propos creat ‘ new comp...  \n",
       "9   ref are 09/09/2020 onc recogn economi scale sc...  \n",
       "11  ref are 09/09/2020 confidenti annex to impala ...  "
      ]
     },
     "execution_count": 27,
     "metadata": {},
     "output_type": "execute_result"
    }
   ],
   "source": [
    "df.head()"
   ]
  },
  {
   "cell_type": "markdown",
   "metadata": {},
   "source": [
    "## Splitting the data"
   ]
  },
  {
   "cell_type": "code",
   "execution_count": 28,
   "metadata": {},
   "outputs": [],
   "source": [
    "from sklearn.preprocessing import LabelEncoder\n",
    "le = LabelEncoder()\n",
    "df['label.132'] = le.fit_transform(df['label_132'])\n",
    "df['label.134'] = le.fit_transform(df['label_134'])"
   ]
  },
  {
   "cell_type": "code",
   "execution_count": 30,
   "metadata": {},
   "outputs": [],
   "source": [
    "from sklearn.feature_extraction.text import TfidfVectorizer\n",
    "\n",
    "vectorizer = TfidfVectorizer()\n",
    "dfm = vectorizer.fit_transform(df['text_clean'])\n"
   ]
  },
  {
   "cell_type": "code",
   "execution_count": 56,
   "metadata": {},
   "outputs": [],
   "source": [
    "from sklearn.model_selection import train_test_split\n",
    "\n",
    "# split data into train, test, validation sets\n",
    "train_text, test_text, train_labels, test_labels = train_test_split(dfm, df['label.132'], \n",
    "                                                                    random_state=2018, \n",
    "                                                                    test_size=0.3, \n",
    "                                                                    stratify=df['label.132'])\n",
    "\n",
    "# val_text, test_text, val_labels, test_labels = train_test_split(temp_dfm, temp_labels, \n",
    "#                                                                 random_state=2018, \n",
    "#                                                                 test_size=0.5, \n",
    "#                                                                 stratify=temp_labels)"
   ]
  },
  {
   "cell_type": "markdown",
   "metadata": {},
   "source": [
    "## XG-boost"
   ]
  },
  {
   "cell_type": "code",
   "execution_count": 59,
   "metadata": {},
   "outputs": [
    {
     "name": "stdout",
     "output_type": "stream",
     "text": [
      "XGBClassifier(base_score=0.5, booster='gbtree', callbacks=None,\n",
      "              colsample_bylevel=1, colsample_bynode=1, colsample_bytree=1,\n",
      "              early_stopping_rounds=None, enable_categorical=False,\n",
      "              eval_metric=None, feature_types=None, gamma=0, gpu_id=-1,\n",
      "              grow_policy='depthwise', importance_type=None,\n",
      "              interaction_constraints='', learning_rate=0.1, max_bin=256,\n",
      "              max_cat_threshold=64, max_cat_to_onehot=4, max_delta_step=0,\n",
      "              max_depth=1000, max_leaves=0, min_child_weight=1, missing=nan,\n",
      "              monotone_constraints='()', n_estimators=1000, n_jobs=0,\n",
      "              num_parallel_tree=1, predictor='auto', random_state=0, ...)\n",
      "Accuracy: 54.55%\n",
      "\n",
      " Precision: 0.600 \n",
      " Recall: 0.500 \n",
      "  F1: 0.545\n"
     ]
    }
   ],
   "source": [
    "# Xg_boost\n",
    "\n",
    "from xgboost import XGBClassifier\n",
    "\n",
    "bst = XGBClassifier(n_estimators=1000, max_depth=1000, learning_rate=0.1, objective='binary:logistic')\n",
    "\n",
    "bst.fit(train_text, train_labels)\n",
    "\n",
    "print(bst)\n",
    "\n",
    "from sklearn.metrics import accuracy_score\n",
    "from sklearn.metrics import precision_recall_fscore_support\n",
    "\n",
    "\n",
    "y_pred = bst.predict(test_text)\n",
    "accuracy = accuracy_score(test_labels, y_pred)\n",
    "print(\"Accuracy: %.2f%%\" % (accuracy * 100.0))\n",
    "\n",
    "\n",
    "# precision, recall, f_score, _ =  precision_recall_fscore_support(test_labels, y_pred, average= 'binary' )\n",
    "from sklearn.metrics import precision_score\n",
    "from sklearn.metrics import recall_score\n",
    "\n",
    "\n",
    "precision = precision_score(test_labels, y_pred, average='binary')\n",
    "recall = recall_score(test_labels, y_pred, average='binary')\n",
    "f_score = 2 * (precision * recall) / (precision + recall)\n",
    "\n",
    "print(f'\\n Precision: {precision:.3f} \\n Recall: {recall:.3f} \\n  F1: {f_score:.3f}')"
   ]
  },
  {
   "cell_type": "markdown",
   "metadata": {},
   "source": [
    "## Logistic regression classifier"
   ]
  },
  {
   "cell_type": "code",
   "execution_count": 58,
   "metadata": {},
   "outputs": [
    {
     "name": "stdout",
     "output_type": "stream",
     "text": [
      "Accuracy: 59.09%\n",
      "\n",
      " Precision: 0.636 \n",
      " Recall: 0.583 \n",
      "  F1: 0.609\n"
     ]
    }
   ],
   "source": [
    "from sklearn.linear_model import LogisticRegression\n",
    "\n",
    "clf = LogisticRegression(random_state=0).fit(train_text, train_labels)\n",
    "\n",
    "y_pred = clf.predict(test_text)\n",
    "\n",
    "accuracy = accuracy_score(test_labels, y_pred)\n",
    "print(\"Accuracy: %.2f%%\" % (accuracy * 100.0))\n",
    "\n",
    "# precision, recall, f_score, _ =  precision_recall_fscore_support(test_labels, y_pred, average= 'binary' )\n",
    "from sklearn.metrics import precision_score\n",
    "from sklearn.metrics import recall_score\n",
    "\n",
    "\n",
    "precision = precision_score(test_labels, y_pred, average='binary')\n",
    "recall = recall_score(test_labels, y_pred, average='binary')\n",
    "f_score = 2 * (precision * recall) / (precision + recall)\n",
    "\n",
    "\n",
    "print(f'\\n Precision: {precision:.3f} \\n Recall: {recall:.3f} \\n  F1: {f_score:.3f}')\n"
   ]
  }
 ],
 "metadata": {
  "kernelspec": {
   "display_name": "Python 3.8.9 ('mock_project-G61baSYj')",
   "language": "python",
   "name": "python3"
  },
  "language_info": {
   "codemirror_mode": {
    "name": "ipython",
    "version": 3
   },
   "file_extension": ".py",
   "mimetype": "text/x-python",
   "name": "python",
   "nbconvert_exporter": "python",
   "pygments_lexer": "ipython3",
   "version": "3.8.9"
  },
  "orig_nbformat": 4,
  "vscode": {
   "interpreter": {
    "hash": "fb2d8768065fb97585a7d5029bfebbd6cb54f5dc8d518e72a1bf8e92e54460a1"
   }
  }
 },
 "nbformat": 4,
 "nbformat_minor": 2
}
