{
 "cells": [
  {
   "cell_type": "markdown",
   "metadata": {},
   "source": [
    "## Parsing unstructured PDFs to text"
   ]
  },
  {
   "cell_type": "code",
   "execution_count": 1,
   "metadata": {},
   "outputs": [],
   "source": [
    "import pandas as pd\n",
    "\n",
    "dma = pd.read_excel(\"../data/DMA Contributions_Clean.xlsx\", sheet_name='Results')"
   ]
  },
  {
   "cell_type": "code",
   "execution_count": 2,
   "metadata": {},
   "outputs": [
    {
     "data": {
      "text/html": [
       "<div>\n",
       "<style scoped>\n",
       "    .dataframe tbody tr th:only-of-type {\n",
       "        vertical-align: middle;\n",
       "    }\n",
       "\n",
       "    .dataframe tbody tr th {\n",
       "        vertical-align: top;\n",
       "    }\n",
       "\n",
       "    .dataframe thead th {\n",
       "        text-align: right;\n",
       "    }\n",
       "</style>\n",
       "<table border=\"1\" class=\"dataframe\">\n",
       "  <thead>\n",
       "    <tr style=\"text-align: right;\">\n",
       "      <th></th>\n",
       "      <th>Reference</th>\n",
       "      <th>Feedback date</th>\n",
       "      <th>Language</th>\n",
       "      <th>User type</th>\n",
       "      <th>First name</th>\n",
       "      <th>Surname</th>\n",
       "      <th>Scope</th>\n",
       "      <th>Organisation name</th>\n",
       "      <th>Transparency register number</th>\n",
       "      <th>Organisation size</th>\n",
       "      <th>...</th>\n",
       "      <th>Q197</th>\n",
       "      <th>Q198</th>\n",
       "      <th>Q199</th>\n",
       "      <th>Q200</th>\n",
       "      <th>Q201</th>\n",
       "      <th>Q202</th>\n",
       "      <th>Q203</th>\n",
       "      <th>Q204</th>\n",
       "      <th>Q205</th>\n",
       "      <th>Q206</th>\n",
       "    </tr>\n",
       "  </thead>\n",
       "  <tbody>\n",
       "    <tr>\n",
       "      <th>0</th>\n",
       "      <td>F550828</td>\n",
       "      <td>8.09.2020 23:57</td>\n",
       "      <td>English</td>\n",
       "      <td>NaN</td>\n",
       "      <td>NaN</td>\n",
       "      <td>NaN</td>\n",
       "      <td>NaN</td>\n",
       "      <td>NaN</td>\n",
       "      <td>NaN</td>\n",
       "      <td>NaN</td>\n",
       "      <td>...</td>\n",
       "      <td>See our response above.</td>\n",
       "      <td>Somewhat effective</td>\n",
       "      <td>Very effective</td>\n",
       "      <td>Very effective</td>\n",
       "      <td>Most effective</td>\n",
       "      <td>Very effective</td>\n",
       "      <td>See our response above.</td>\n",
       "      <td>NaN</td>\n",
       "      <td>No.</td>\n",
       "      <td>Yes</td>\n",
       "    </tr>\n",
       "    <tr>\n",
       "      <th>1</th>\n",
       "      <td>F550827</td>\n",
       "      <td>8.09.2020 23:54</td>\n",
       "      <td>English</td>\n",
       "      <td>NGO (Non-governmental organisation)</td>\n",
       "      <td>Juliane</td>\n",
       "      <td>von Reppert-Bismarck</td>\n",
       "      <td>NaN</td>\n",
       "      <td>Lie Detectors</td>\n",
       "      <td>094738529674-10</td>\n",
       "      <td>Small (&lt; 50 employees)</td>\n",
       "      <td>...</td>\n",
       "      <td>NaN</td>\n",
       "      <td>Not effective</td>\n",
       "      <td>Most effective</td>\n",
       "      <td>Somewhat effective</td>\n",
       "      <td>Most effective</td>\n",
       "      <td>Most effective</td>\n",
       "      <td>An additional regulatory framework imposing ob...</td>\n",
       "      <td>Lie_Detectors_-_Digital_Services_Act_-_New_Com...</td>\n",
       "      <td>Please see attached submission</td>\n",
       "      <td>Yes</td>\n",
       "    </tr>\n",
       "    <tr>\n",
       "      <th>2</th>\n",
       "      <td>F550826</td>\n",
       "      <td>8.09.2020 23:50</td>\n",
       "      <td>German</td>\n",
       "      <td>Business Association</td>\n",
       "      <td>Antje</td>\n",
       "      <td>Woltermann</td>\n",
       "      <td>NaN</td>\n",
       "      <td>Zentralverband Deutsches Kfz-Gewerbe e.V.</td>\n",
       "      <td>71649103246-10</td>\n",
       "      <td>Medium (&lt; 250 employees)</td>\n",
       "      <td>...</td>\n",
       "      <td>NaN</td>\n",
       "      <td>Somewhat effective</td>\n",
       "      <td>Most effective</td>\n",
       "      <td>Somewhat effective</td>\n",
       "      <td>Sufficiently effective</td>\n",
       "      <td>Very effective</td>\n",
       "      <td>-</td>\n",
       "      <td>Positionspapier_Gleichberechtigter_Zugang_zum_...</td>\n",
       "      <td>-</td>\n",
       "      <td>Yes</td>\n",
       "    </tr>\n",
       "    <tr>\n",
       "      <th>3</th>\n",
       "      <td>F550825</td>\n",
       "      <td>8.09.2020 23:45</td>\n",
       "      <td>English</td>\n",
       "      <td>Academic/Research Institution</td>\n",
       "      <td>DIANA</td>\n",
       "      <td>MONTENEGRO</td>\n",
       "      <td>NaN</td>\n",
       "      <td>Master student candidate Master in Competition...</td>\n",
       "      <td>NaN</td>\n",
       "      <td>Large (250 or more)</td>\n",
       "      <td>...</td>\n",
       "      <td>The new procedural must be agile.</td>\n",
       "      <td>Not effective</td>\n",
       "      <td>Very effective</td>\n",
       "      <td>Very effective</td>\n",
       "      <td>Very effective</td>\n",
       "      <td>Very effective</td>\n",
       "      <td>all are adequated</td>\n",
       "      <td>PREPARATIVE_DOCUMENT_FOR_THE_EUROEPAN_COMMISIO...</td>\n",
       "      <td>The document I prepared was more than 1MB.</td>\n",
       "      <td>Yes</td>\n",
       "    </tr>\n",
       "    <tr>\n",
       "      <th>4</th>\n",
       "      <td>F550824</td>\n",
       "      <td>8.09.2020 23:33</td>\n",
       "      <td>English</td>\n",
       "      <td>Business Association</td>\n",
       "      <td>Kamila</td>\n",
       "      <td>Sotomska</td>\n",
       "      <td>NaN</td>\n",
       "      <td>Zwi?zek Przedsi?biorców i Pracodawców</td>\n",
       "      <td>868073924175-77</td>\n",
       "      <td>Small (&lt; 50 employees)</td>\n",
       "      <td>...</td>\n",
       "      <td>NaN</td>\n",
       "      <td>Not applicable /No relevant experience or know...</td>\n",
       "      <td>Not applicable /No relevant experience or know...</td>\n",
       "      <td>Not applicable /No relevant experience or know...</td>\n",
       "      <td>Not applicable /No relevant experience or know...</td>\n",
       "      <td>Not applicable /No relevant experience or know...</td>\n",
       "      <td>NaN</td>\n",
       "      <td>NaN</td>\n",
       "      <td>NaN</td>\n",
       "      <td>Yes</td>\n",
       "    </tr>\n",
       "  </tbody>\n",
       "</table>\n",
       "<p>5 rows × 219 columns</p>\n",
       "</div>"
      ],
      "text/plain": [
       "  Reference    Feedback date Language                            User type  \\\n",
       "0   F550828  8.09.2020 23:57  English                                  NaN   \n",
       "1   F550827  8.09.2020 23:54  English  NGO (Non-governmental organisation)   \n",
       "2   F550826  8.09.2020 23:50   German                 Business Association   \n",
       "3   F550825  8.09.2020 23:45  English        Academic/Research Institution   \n",
       "4   F550824  8.09.2020 23:33  English                 Business Association   \n",
       "\n",
       "  First name               Surname Scope  \\\n",
       "0        NaN                   NaN   NaN   \n",
       "1    Juliane  von Reppert-Bismarck   NaN   \n",
       "2      Antje            Woltermann   NaN   \n",
       "3      DIANA            MONTENEGRO   NaN   \n",
       "4     Kamila              Sotomska   NaN   \n",
       "\n",
       "                                   Organisation name  \\\n",
       "0                                                NaN   \n",
       "1                                      Lie Detectors   \n",
       "2          Zentralverband Deutsches Kfz-Gewerbe e.V.   \n",
       "3  Master student candidate Master in Competition...   \n",
       "4              Zwi?zek Przedsi?biorców i Pracodawców   \n",
       "\n",
       "  Transparency register number         Organisation size  ...  \\\n",
       "0                          NaN                       NaN  ...   \n",
       "1              094738529674-10    Small (< 50 employees)  ...   \n",
       "2               71649103246-10  Medium (< 250 employees)  ...   \n",
       "3                          NaN       Large (250 or more)  ...   \n",
       "4              868073924175-77    Small (< 50 employees)  ...   \n",
       "\n",
       "                                Q197  \\\n",
       "0            See our response above.   \n",
       "1                                NaN   \n",
       "2                                NaN   \n",
       "3  The new procedural must be agile.   \n",
       "4                                NaN   \n",
       "\n",
       "                                                Q198  \\\n",
       "0                                 Somewhat effective   \n",
       "1                                      Not effective   \n",
       "2                                 Somewhat effective   \n",
       "3                                      Not effective   \n",
       "4  Not applicable /No relevant experience or know...   \n",
       "\n",
       "                                                Q199  \\\n",
       "0                                     Very effective   \n",
       "1                                     Most effective   \n",
       "2                                     Most effective   \n",
       "3                                     Very effective   \n",
       "4  Not applicable /No relevant experience or know...   \n",
       "\n",
       "                                                Q200  \\\n",
       "0                                     Very effective   \n",
       "1                                 Somewhat effective   \n",
       "2                                 Somewhat effective   \n",
       "3                                     Very effective   \n",
       "4  Not applicable /No relevant experience or know...   \n",
       "\n",
       "                                                Q201  \\\n",
       "0                                     Most effective   \n",
       "1                                     Most effective   \n",
       "2                             Sufficiently effective   \n",
       "3                                     Very effective   \n",
       "4  Not applicable /No relevant experience or know...   \n",
       "\n",
       "                                                Q202  \\\n",
       "0                                     Very effective   \n",
       "1                                     Most effective   \n",
       "2                                     Very effective   \n",
       "3                                     Very effective   \n",
       "4  Not applicable /No relevant experience or know...   \n",
       "\n",
       "                                                Q203  \\\n",
       "0                            See our response above.   \n",
       "1  An additional regulatory framework imposing ob...   \n",
       "2                                                  -   \n",
       "3                                  all are adequated   \n",
       "4                                                NaN   \n",
       "\n",
       "                                                Q204  \\\n",
       "0                                                NaN   \n",
       "1  Lie_Detectors_-_Digital_Services_Act_-_New_Com...   \n",
       "2  Positionspapier_Gleichberechtigter_Zugang_zum_...   \n",
       "3  PREPARATIVE_DOCUMENT_FOR_THE_EUROEPAN_COMMISIO...   \n",
       "4                                                NaN   \n",
       "\n",
       "                                         Q205 Q206  \n",
       "0                                         No.  Yes  \n",
       "1              Please see attached submission  Yes  \n",
       "2                                           -  Yes  \n",
       "3  The document I prepared was more than 1MB.  Yes  \n",
       "4                                         NaN  Yes  \n",
       "\n",
       "[5 rows x 219 columns]"
      ]
     },
     "execution_count": 2,
     "metadata": {},
     "output_type": "execute_result"
    }
   ],
   "source": [
    "dma.head()"
   ]
  },
  {
   "cell_type": "code",
   "execution_count": 4,
   "metadata": {},
   "outputs": [
    {
     "data": {
      "text/plain": [
       "89"
      ]
     },
     "execution_count": 4,
     "metadata": {},
     "output_type": "execute_result"
    }
   ],
   "source": [
    "from glob import glob\n",
    "import os \n",
    "import re\n",
    "\n",
    "pdf_dir = \"../data/reports/\"\n",
    "pdf_list = glob(os.path.join(pdf_dir, \"*.pdf\"))\n",
    "pdf_list\n",
    "\n",
    "pdf_id = [re.search('[F][0-9]{6}', i)[0] for i in pdf_list]\n",
    "pdf_id = list(set(pdf_id))\n",
    "len(pdf_id) # no. of unique submission"
   ]
  },
  {
   "cell_type": "code",
   "execution_count": 5,
   "metadata": {},
   "outputs": [
    {
     "data": {
      "text/plain": [
       "Index(['Reference', 'Feedback date', 'Language', 'User type', 'First name',\n",
       "       'Surname', 'Scope', 'Organisation name', 'Transparency register number',\n",
       "       'Organisation size',\n",
       "       ...\n",
       "       'Q197', 'Q198', 'Q199', 'Q200', 'Q201', 'Q202', 'Q203', 'Q204', 'Q205',\n",
       "       'Q206'],\n",
       "      dtype='object', length=219)"
      ]
     },
     "execution_count": 5,
     "metadata": {},
     "output_type": "execute_result"
    }
   ],
   "source": [
    "dma.columns"
   ]
  },
  {
   "cell_type": "code",
   "execution_count": 6,
   "metadata": {},
   "outputs": [
    {
     "data": {
      "text/plain": [
       "85"
      ]
     },
     "execution_count": 6,
     "metadata": {},
     "output_type": "execute_result"
    }
   ],
   "source": [
    "dma_85 = dma.query('Reference in @pdf_id')\n",
    "len(dma_87)"
   ]
  },
  {
   "cell_type": "code",
   "execution_count": 7,
   "metadata": {},
   "outputs": [
    {
     "data": {
      "text/plain": [
       "Yes                                                    50\n",
       "Not applicable /no relevant experience or knowledge    25\n",
       "No                                                     10\n",
       "Name: Q132, dtype: int64"
      ]
     },
     "execution_count": 7,
     "metadata": {},
     "output_type": "execute_result"
    }
   ],
   "source": [
    "#Q132, Q134\n",
    "dma_85.Q132.value_counts()"
   ]
  },
  {
   "cell_type": "code",
   "execution_count": 8,
   "metadata": {},
   "outputs": [
    {
     "data": {
      "text/plain": [
       "Not applicable /no relevant experience or knowledge    33\n",
       "No                                                     30\n",
       "Yes                                                    22\n",
       "Name: Q134, dtype: int64"
      ]
     },
     "execution_count": 8,
     "metadata": {},
     "output_type": "execute_result"
    }
   ],
   "source": [
    "dma_85.Q134.value_counts()"
   ]
  },
  {
   "cell_type": "markdown",
   "metadata": {},
   "source": [
    "Saving extracted texts from pdf to a text file"
   ]
  },
  {
   "cell_type": "code",
   "execution_count": 54,
   "metadata": {},
   "outputs": [],
   "source": [
    "from pdfminer.high_level import extract_text\n",
    "\n",
    "txt_dir = \"../data/texts/\"\n",
    "\n",
    "for pdf_file in pdf_list:\n",
    "    all_text = extract_text(pdf_file)\n",
    "        \n",
    "    with open(os.path.join(txt_dir + re.search('[F][0-9]{6}(.*)[\\\\>.]', pdf_file)[0] + 'txt'), \n",
    "            encoding='utf-8', mode='w') as f:\n",
    "        f.writelines(all_text)\n",
    "        f.close()"
   ]
  },
  {
   "cell_type": "code",
   "execution_count": 53,
   "metadata": {},
   "outputs": [
    {
     "data": {
      "text/plain": [
       "'F550800-IFPI_-_IFPI_submission_to_DSA_Ex-ante_Regulation_and_New_Competition_Tool_consultations.'"
      ]
     },
     "execution_count": 53,
     "metadata": {},
     "output_type": "execute_result"
    }
   ],
   "source": [
    "re.search('[F][0-9]{6}(.*)[\\\\>.]', pdf_list[89])[0]"
   ]
  },
  {
   "cell_type": "code",
   "execution_count": null,
   "metadata": {},
   "outputs": [],
   "source": [
    "# TODO: \n",
    "# English only\n",
    "# do not include footnotes\n",
    "# tidy text data"
   ]
  },
  {
   "cell_type": "code",
   "execution_count": null,
   "metadata": {},
   "outputs": [],
   "source": [
    "# import pdfplumber\n",
    "# for pdf_file in pdf_list:\n",
    "#     all_text = ''\n",
    "#     with pdfplumber.open(pdf_file) as pdf:\n",
    "#         total_pages = len(pdf.pages)\n",
    "#         for i in range(0 ,total_pages):\n",
    "#             page = pdf.pages[i]\n",
    "#             page_text = page.extract_text()\n",
    "#             all_text = all_text + '\\n' + page_text\n",
    "\n",
    "#         with open(os.path.join(txt_dir + re.search('[F][0-9]{6}', pdf_file)[0] + \".txt\"), \n",
    "#                     encoding='utf-8', mode='w') as f:\n",
    "#             f.writelines(all_text)\n",
    "#             f.close()"
   ]
  }
 ],
 "metadata": {
  "kernelspec": {
   "display_name": "Python 3.10.4 ('watermelon')",
   "language": "python",
   "name": "python3"
  },
  "language_info": {
   "codemirror_mode": {
    "name": "ipython",
    "version": 3
   },
   "file_extension": ".py",
   "mimetype": "text/x-python",
   "name": "python",
   "nbconvert_exporter": "python",
   "pygments_lexer": "ipython3",
   "version": "3.10.8"
  },
  "orig_nbformat": 4,
  "vscode": {
   "interpreter": {
    "hash": "74d1cbe4299d6052562a3b04e5d47e1706bc319f6acfc872fba2a82cb1a428da"
   }
  }
 },
 "nbformat": 4,
 "nbformat_minor": 2
}
